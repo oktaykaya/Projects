{
  "nbformat": 4,
  "nbformat_minor": 0,
  "metadata": {
    "colab": {
      "provenance": []
    },
    "kernelspec": {
      "name": "python3",
      "display_name": "Python 3"
    },
    "language_info": {
      "name": "python"
    }
  },
  "cells": [
    {
      "cell_type": "markdown",
      "source": [
        "1. Reverse List: Write a function to reverse a given list."
      ],
      "metadata": {
        "id": "TrpuktWOak0Y"
      }
    },
    {
      "cell_type": "code",
      "execution_count": 8,
      "metadata": {
        "colab": {
          "base_uri": "https://localhost:8080/"
        },
        "id": "zotxZmXAZusi",
        "outputId": "2348c403-5f04-4fee-d4f5-5d38bc2de335"
      },
      "outputs": [
        {
          "output_type": "stream",
          "name": "stdout",
          "text": [
            "Original List: [1, 2, 3, 4, 5, 7, 6]\n",
            "Inverted List: [6, 7, 5, 4, 3, 2, 1]\n"
          ]
        }
      ],
      "source": [
        "def reverse_list(liste):\n",
        "    return liste[::-1]\n",
        "\n",
        "# Example\n",
        "liste = [1, 2, 3, 4, 5, 7, 6]\n",
        "print(\"Original List:\", liste)\n",
        "print(\"Inverted List:\", reverse_list(liste))\n"
      ]
    },
    {
      "cell_type": "markdown",
      "source": [
        "A function is defined and In this definition, the expression list[::-1] is the use of \"slice\" in Python language and is used to reverse the elements of a list or other arrays. [::-1] takes the entire list and traverses it with step value -1 (i.e. in reverse). As a result, the elements of the list are reversed.\n",
        "\n",
        "Necessary inputs are entered in a list and this list is given to the defined function."
      ],
      "metadata": {
        "id": "xxIV96cd0fc1"
      }
    },
    {
      "cell_type": "markdown",
      "source": [
        "2. Remove Duplicates: Implement a function to remove duplicate elements from a list."
      ],
      "metadata": {
        "id": "KN5CuZTYat8H"
      }
    },
    {
      "cell_type": "code",
      "source": [
        "def remove_duplicates(liste):\n",
        "    singleList = []\n",
        "    for index in liste:\n",
        "        if index not in singleList:\n",
        "            singleList.append(index)\n",
        "    return singleList\n",
        "\n",
        "# Example\n",
        "liste = [1, 2, 3, 4, 2, 3, 5]\n",
        "singleList = remove_duplicates(liste)\n",
        "print(\"Original List:\", liste)\n",
        "print(\"List after removing duplicates:\", singleList)\n"
      ],
      "metadata": {
        "colab": {
          "base_uri": "https://localhost:8080/"
        },
        "id": "kHf00k70asqn",
        "outputId": "5c8a34c6-cb82-4003-ad4e-cd82a0ab7d97"
      },
      "execution_count": 9,
      "outputs": [
        {
          "output_type": "stream",
          "name": "stdout",
          "text": [
            "Original List: [1, 2, 3, 4, 2, 3, 5]\n",
            "List after removing duplicates: [1, 2, 3, 4, 5]\n"
          ]
        }
      ]
    },
    {
      "cell_type": "markdown",
      "source": [
        "A function is defined and in this definition, an empty list called singleList is created. Then, using the for loop, each element (index) of the incoming list is checked one by one. It is checked whether each element is in the singleList. If the element does not exist in the singleList (that is, it is not repeated), this element is added to the singleList.\n",
        "\n",
        "\n",
        "Necessary inputs are entered in a list and this list is given to the defined function."
      ],
      "metadata": {
        "id": "cH-93I331DDb"
      }
    },
    {
      "cell_type": "markdown",
      "source": [
        "3. List Concatenation: Write a function to concatenate two lists."
      ],
      "metadata": {
        "id": "cPo7Lh0CcUtV"
      }
    },
    {
      "cell_type": "code",
      "source": [
        "def concatenation(list1, list2):\n",
        "    concatenationList = list1 + list2\n",
        "    return concatenationList\n",
        "\n",
        "# Example\n",
        "list1 = [1, 2, 3]\n",
        "list2 = [4, 5, 6]\n",
        "concatenationList = concatenation(list1, list2)\n",
        "print(\"List 1: \", list1)\n",
        "print(\"List 2: \", list2)\n",
        "print(\"Merged list: \",concatenationList)\n"
      ],
      "metadata": {
        "colab": {
          "base_uri": "https://localhost:8080/"
        },
        "id": "NAFPRAtbcYwU",
        "outputId": "0dc95787-e7c9-44b8-c0e0-e2f929277c2f"
      },
      "execution_count": 10,
      "outputs": [
        {
          "output_type": "stream",
          "name": "stdout",
          "text": [
            "List 1:  [1, 2, 3]\n",
            "List 2:  [4, 5, 6]\n",
            "Merged list:  [1, 2, 3, 4, 5, 6]\n"
          ]
        }
      ]
    },
    {
      "cell_type": "markdown",
      "source": [
        "A function is defined and in this definition, a variable named concatenationList is created and the concatenation of list1 and list2 is assigned to this variable. When two lists are combined in Python, the + operator is used and a new list is created as a result of this operation.\n",
        "\n",
        "Necessary inputs are entered in two lists and these lists are given to the defined function.\n"
      ],
      "metadata": {
        "id": "JC0mswLV1eDc"
      }
    },
    {
      "cell_type": "markdown",
      "source": [
        "4. List Intersection: Implement a function to find the intersection of two lists (i.e., common elements)."
      ],
      "metadata": {
        "id": "4R6wjTccdAQU"
      }
    },
    {
      "cell_type": "code",
      "source": [
        "def intersection(list1, list2):\n",
        "    # İki listenin kesişimini bulmak için bir küme oluşturuyoruz\n",
        "    intersec = set(list1) & set(list2)\n",
        "    # Küme olarak bulunan kesişimi yeniden liste haline getiriyoruz\n",
        "    intersec_liste = list(intersec)\n",
        "    return intersec_liste\n",
        "\n",
        "# Example\n",
        "list1 = [1, 2, 3, 4, 5]\n",
        "list2 = [3, 4, 5, 6, 7]\n",
        "print(\"List 1: \", list1)\n",
        "print(\"List 2: \", list2)\n",
        "print(\"List of intersections: \", intersection(list1, list2))"
      ],
      "metadata": {
        "colab": {
          "base_uri": "https://localhost:8080/"
        },
        "id": "GbQ8VK4SdFQi",
        "outputId": "ea58f8bd-41ac-4810-b349-f0287b2767be"
      },
      "execution_count": 11,
      "outputs": [
        {
          "output_type": "stream",
          "name": "stdout",
          "text": [
            "List 1:  [1, 2, 3, 4, 5]\n",
            "List 2:  [3, 4, 5, 6, 7]\n",
            "List of intersections:  [3, 4, 5]\n"
          ]
        }
      ]
    },
    {
      "cell_type": "markdown",
      "source": [
        "A function is defined and in this definition, the set of unique elements of each of list1 and list2 is created using the set data type. Then, the intersection of these two sets is found with the & operator. Finally, this intersection set is converted to a list with the list function.\n",
        "\n",
        "Necessary inputs are entered in two lists and these lists are given to the defined function."
      ],
      "metadata": {
        "id": "PxxU8iDi2DYM"
      }
    },
    {
      "cell_type": "markdown",
      "source": [
        "**OKTAY** **KAYA**\n",
        "\n",
        "**20132595298**"
      ],
      "metadata": {
        "id": "NID1cX5QCQtw"
      }
    }
  ]
}